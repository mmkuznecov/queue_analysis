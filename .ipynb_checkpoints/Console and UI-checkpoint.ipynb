{
 "cells": [
  {
   "cell_type": "code",
   "execution_count": 1,
   "metadata": {},
   "outputs": [
    {
     "name": "stderr",
     "output_type": "stream",
     "text": [
      "/home/ubuntu/anaconda3/envs/pytorch_latest_p37/lib/python3.7/site-packages/psycopg2/__init__.py:144: UserWarning: The psycopg2 wheel package will be renamed from release 2.8; in order to keep installing from binary please use \"pip install psycopg2-binary\" instead. For details see: <http://initd.org/psycopg/docs/install.html#binary-install-from-pypi>.\n",
      "  \"\"\")\n",
      "/home/ubuntu/QueueAnalysis/fchd/src/nms/non_maximum_suppression.py:14: UserWarning: \n",
      "    the python code for non_maximum_suppression is about 2x slow\n",
      "    It is strongly recommended to build cython code: \n",
      "    `cd model/utils/nms/; python3 build.py build_ext --inplace\n",
      "  `cd model/utils/nms/; python3 build.py build_ext --inplace''')\n"
     ]
    }
   ],
   "source": [
    "from queue_model import *\n",
    "from queue_manager import Manager, CameraListener\n",
    "import logging\n",
    "import os\n",
    "import time\n",
    "from ipywidgets import Button, Layout, interact, interactive_output, fixed, interact_manual, VBox, HBox, Output, Select, Image, Label, Text\n",
    "import ipywidgets as widgets\n",
    "from IPython.display import clear_output\n",
    "import warnings\n",
    "import datetime\n",
    "warnings.filterwarnings(\"ignore\")"
   ]
  },
  {
   "cell_type": "code",
   "execution_count": 2,
   "metadata": {},
   "outputs": [],
   "source": [
    "config = configparser.ConfigParser()\n",
    "config.read(\"config.ini\")\n",
    "log_dir             = config['Path']['log_dir']\n",
    "mask_dir            = config['Path']['mask_dir']\n",
    "model_path          = config['Manager']['model_path']\n",
    "n_threads           = int(config['Manager']['n_threads'])\n",
    "exception_delay     = int(config['Manager']['exception_delay'])\n",
    "connection_attempts = int(config['CameraListener']['connection_attempts'])\n",
    "capture_delay       = int(config['CameraListener']['capture_delay'])"
   ]
  },
  {
   "cell_type": "code",
   "execution_count": 3,
   "metadata": {},
   "outputs": [],
   "source": [
    "logging.basicConfig(filename=os.path.join(log_dir, f'{time.time()}.txt'), level=logging.INFO)"
   ]
  },
  {
   "cell_type": "code",
   "execution_count": 4,
   "metadata": {},
   "outputs": [],
   "source": [
    "camera_listeners = []\n",
    "for queue in QueueModel.select():\n",
    "    qid = queue.id\n",
    "    camera_url = queue.camera_url\n",
    "    mask_path = os.path.join(mask_dir, queue.mask_path)\n",
    "    camera_listeners.append(CameraListener(qid, camera_url, logging, mask_path,\n",
    "                                           connection_attempts, capture_delay))"
   ]
  },
  {
   "cell_type": "code",
   "execution_count": 5,
   "metadata": {},
   "outputs": [],
   "source": [
    "manager = Manager(camera_listeners, update_info, n_threads, model_path, exception_delay, logging)"
   ]
  },
  {
   "cell_type": "code",
   "execution_count": 6,
   "metadata": {},
   "outputs": [],
   "source": [
    "manager.start()"
   ]
  },
  {
   "cell_type": "code",
   "execution_count": 7,
   "metadata": {},
   "outputs": [],
   "source": [
    "frame_layout = widgets.Layout(\n",
    "        max_width='687px',\n",
    "        border='solid 1px black',\n",
    "        margin='0px 10px 10px 0px',\n",
    "        padding='5px 5px 5px 5px')\n",
    "\n",
    "option_layout = widgets.Layout(\n",
    "        width='140px',\n",
    "        margin='0px 10px 10px 0px',\n",
    "        padding='5px 5px 5px 5px')\n",
    "\n",
    "fp_layout = widgets.Layout(\n",
    "        border='solid 1px black',\n",
    "        margin='0px 10px 10px 0px',\n",
    "        padding='5px 5px 5px 5px')"
   ]
  },
  {
   "cell_type": "code",
   "execution_count": 8,
   "metadata": {
    "scrolled": true
   },
   "outputs": [],
   "source": [
    "def display_manager_state():\n",
    "    vbox_cl = []\n",
    "    vbox_cl.append(Label(value='Manager queue:'))\n",
    "    cl_queue = list(manager.camera_listeners)\n",
    "    for cl in cl_queue:\n",
    "        vbox_cl.append(Label(value=f'     {cl.qid}'))\n",
    "    vbox_cl = VBox(vbox_cl)\n",
    "    vbox_cl.layout = fp_layout\n",
    "    \n",
    "    vbox_fp = []\n",
    "    vbox_fp.append(Label(value='Frame processors tasks:   '))\n",
    "    for i in range(manager.n_threads):\n",
    "        fp = manager.frame_processors[i]\n",
    "        vbox_fp.append(Label(value=f'     P{i + 1}: {fp.current_qid}'))\n",
    "    vbox_fp = VBox(vbox_fp)\n",
    "    vbox_fp.layout = fp_layout\n",
    "    \n",
    "    data = list(QueueModel.select().dicts())\n",
    "    cl_data = Output()\n",
    "    cl_data.layout = fp_layout\n",
    "    s = '  {:<22}|  {:<18}|  {}\\n'.format('Queue', 'Number of people', 'Last update time')\n",
    "    s += '_'*67 + '\\n'\n",
    "    for row in data:\n",
    "        qid = row['id']\n",
    "        number_of_people = row['number_of_people']\n",
    "        last_update_time = row['last_update_time']\n",
    "        last_update_time = datetime.datetime.fromtimestamp(last_update_time).strftime('%Y-%m-%d %H:%M:%S')\n",
    "        s += '  {:<24}{:<20}{}\\n\\n'.format(qid, number_of_people, last_update_time)\n",
    "    with cl_data:\n",
    "        print(s)\n",
    "\n",
    "    ui = HBox([VBox([vbox_cl, vbox_fp]), cl_data])\n",
    "    display(ui)\n",
    "    clear_output(True)"
   ]
  },
  {
   "cell_type": "code",
   "execution_count": 9,
   "metadata": {},
   "outputs": [],
   "source": [
    "def display_frames():\n",
    "    frame = Image()\n",
    "    frame.set_value_from_file(f'processed_frames//{camera_listeners[0].qid}.jpg')\n",
    "    frame.layout = frame_layout\n",
    "\n",
    "    select_queue = Select(options=[cl.qid for cl in camera_listeners])\n",
    "    select_queue.layout = option_layout\n",
    "    def on_selection_changed(change):\n",
    "        qid = change['new']\n",
    "        frame.set_value_from_file(f'processed_frames//{qid}.jpg')\n",
    "    select_queue.observe(on_selection_changed, names='value')\n",
    "\n",
    "    update_button = Button(description='update')\n",
    "    update_button.layout = option_layout\n",
    "    def on_button_clicked(b):\n",
    "        frame.set_value_from_file(f'processed_frames//{select_queue.value}.jpg')\n",
    "    update_button.on_click(on_button_clicked)\n",
    "\n",
    "    options = VBox([select_queue, update_button])\n",
    "    options.layout = fp_layout\n",
    "\n",
    "    ui = HBox([options, frame])\n",
    "    display(ui)"
   ]
  },
  {
   "cell_type": "code",
   "execution_count": 10,
   "metadata": {},
   "outputs": [
    {
     "data": {
      "application/vnd.jupyter.widget-view+json": {
       "model_id": "387f1b5b1c1b4f98abcd27e3f4000c8e",
       "version_major": 2,
       "version_minor": 0
      },
      "text/plain": [
       "HBox(children=(VBox(children=(Select(layout=Layout(margin='0px 10px 10px 0px', padding='5px 5px 5px 5px', widt…"
      ]
     },
     "metadata": {},
     "output_type": "display_data"
    }
   ],
   "source": [
    "display_frames()"
   ]
  },
  {
   "cell_type": "code",
   "execution_count": null,
   "metadata": {
    "scrolled": true
   },
   "outputs": [
    {
     "data": {
      "application/vnd.jupyter.widget-view+json": {
       "model_id": "8572566d2b3d4be289d648eb0c12ffd2",
       "version_major": 2,
       "version_minor": 0
      },
      "text/plain": [
       "HBox(children=(VBox(children=(VBox(children=(Label(value='Manager queue:'), Label(value='\\xa0\\xa0\\xa0\\xa0\\xa0c…"
      ]
     },
     "metadata": {},
     "output_type": "display_data"
    }
   ],
   "source": [
    "while True: display_manager_state()"
   ]
  },
  {
   "cell_type": "code",
   "execution_count": null,
   "metadata": {},
   "outputs": [],
   "source": [
    "manager.stop()"
   ]
  }
 ],
 "metadata": {
  "kernelspec": {
   "display_name": "Python [conda env:pytorch_latest_p37]",
   "language": "python",
   "name": "conda-env-pytorch_latest_p37-py"
  },
  "language_info": {
   "codemirror_mode": {
    "name": "ipython",
    "version": 3
   },
   "file_extension": ".py",
   "mimetype": "text/x-python",
   "name": "python",
   "nbconvert_exporter": "python",
   "pygments_lexer": "ipython3",
   "version": "3.7.6"
  }
 },
 "nbformat": 4,
 "nbformat_minor": 4
}
